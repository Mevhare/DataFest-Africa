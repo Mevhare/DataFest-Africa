{
 "cells": [
  {
   "cell_type": "markdown",
   "id": "6155d3d1",
   "metadata": {},
   "source": [
    "---\n",
    "# Title : DataFest Africa January 2023 Data Science Intern Challenge\n",
    "# Author: Mevhare Afe Success \n",
    "# Date : 11th of January, 2023\n",
    "---"
   ]
  },
  {
   "cell_type": "markdown",
   "id": "a44e7642",
   "metadata": {},
   "source": [
    "## Challenge 1: Exploratory Data Analysis With Python\n",
    "### Question:\n",
    "On Shopify, we have exactly 100 sneaker shops, and each of these shops sells only one model of shoe. The dataset is available [here](https://docs.google.com/spreadsheets/d/16i38oonuX1y1g7C_UAmiK9GkY7cS-64DfiDMNiR41LM/edit#gid=0). We want to do some analysis of the average order value (AOV). When we look at orders data over a 30 day window, we naively calculate an AOV of \\\\$3145.13. Given that we know these shops are selling sneakers, a relatively affordable item, something seems wrong with our analysis. \n",
    "- Think about what could be going wrong with our calculation. Think about a better way to evaluate this data. \n",
    "- What metric would you report for this dataset?\n",
    "- What is its value?\n"
   ]
  },
  {
   "cell_type": "markdown",
   "id": "95615da1",
   "metadata": {},
   "source": [
    "### Data Importation and Inspection\n",
    "To begin our analysis, we will need to import the modules needed and the dataset."
   ]
  },
  {
   "cell_type": "code",
   "execution_count": 1,
   "id": "5df73774",
   "metadata": {},
   "outputs": [
    {
     "name": "stdout",
     "output_type": "stream",
     "text": [
      "<class 'pandas.core.frame.DataFrame'>\n",
      "RangeIndex: 5000 entries, 0 to 4999\n",
      "Data columns (total 7 columns):\n",
      " #   Column          Non-Null Count  Dtype         \n",
      "---  ------          --------------  -----         \n",
      " 0   order_id        5000 non-null   int64         \n",
      " 1   shop_id         5000 non-null   int64         \n",
      " 2   user_id         5000 non-null   int64         \n",
      " 3   order_amount    5000 non-null   int64         \n",
      " 4   total_items     5000 non-null   int64         \n",
      " 5   payment_method  5000 non-null   object        \n",
      " 6   created_at      5000 non-null   datetime64[ns]\n",
      "dtypes: datetime64[ns](1), int64(5), object(1)\n",
      "memory usage: 273.6+ KB\n"
     ]
    }
   ],
   "source": [
    " #Importing the neccessary modules\n",
    "import numpy as np\n",
    "import pandas as pd\n",
    "import matplotlib.pyplot as plt\n",
    "import seaborn as sns\n",
    "%matplotlib inline \n",
    "\n",
    "#Import the dataset\n",
    "Shopify = pd.read_excel('2019 Winter Data Science Intern Challenge Data Set.xlsx') \n",
    "\n",
    "#Let's get some information from our data.\n",
    "Shopify.info() "
   ]
  },
  {
   "cell_type": "markdown",
   "id": "26eb2ec8",
   "metadata": {},
   "source": [
    "Our dataset is made up of 7 columns and 5000 rows that are free of null values."
   ]
  },
  {
   "cell_type": "code",
   "execution_count": 2,
   "id": "c8574386",
   "metadata": {},
   "outputs": [
    {
     "data": {
      "text/html": [
       "<div>\n",
       "<style scoped>\n",
       "    .dataframe tbody tr th:only-of-type {\n",
       "        vertical-align: middle;\n",
       "    }\n",
       "\n",
       "    .dataframe tbody tr th {\n",
       "        vertical-align: top;\n",
       "    }\n",
       "\n",
       "    .dataframe thead th {\n",
       "        text-align: right;\n",
       "    }\n",
       "</style>\n",
       "<table border=\"1\" class=\"dataframe\">\n",
       "  <thead>\n",
       "    <tr style=\"text-align: right;\">\n",
       "      <th></th>\n",
       "      <th>order_id</th>\n",
       "      <th>shop_id</th>\n",
       "      <th>user_id</th>\n",
       "      <th>order_amount</th>\n",
       "      <th>total_items</th>\n",
       "      <th>payment_method</th>\n",
       "      <th>created_at</th>\n",
       "    </tr>\n",
       "  </thead>\n",
       "  <tbody>\n",
       "    <tr>\n",
       "      <th>0</th>\n",
       "      <td>1</td>\n",
       "      <td>53</td>\n",
       "      <td>746</td>\n",
       "      <td>224</td>\n",
       "      <td>2</td>\n",
       "      <td>cash</td>\n",
       "      <td>2017-03-13 12:36:56.190</td>\n",
       "    </tr>\n",
       "    <tr>\n",
       "      <th>1</th>\n",
       "      <td>2</td>\n",
       "      <td>92</td>\n",
       "      <td>925</td>\n",
       "      <td>90</td>\n",
       "      <td>1</td>\n",
       "      <td>cash</td>\n",
       "      <td>2017-03-03 17:38:51.999</td>\n",
       "    </tr>\n",
       "    <tr>\n",
       "      <th>2</th>\n",
       "      <td>3</td>\n",
       "      <td>44</td>\n",
       "      <td>861</td>\n",
       "      <td>144</td>\n",
       "      <td>1</td>\n",
       "      <td>cash</td>\n",
       "      <td>2017-03-14 04:23:55.595</td>\n",
       "    </tr>\n",
       "    <tr>\n",
       "      <th>3</th>\n",
       "      <td>4</td>\n",
       "      <td>18</td>\n",
       "      <td>935</td>\n",
       "      <td>156</td>\n",
       "      <td>1</td>\n",
       "      <td>credit_card</td>\n",
       "      <td>2017-03-26 12:43:36.649</td>\n",
       "    </tr>\n",
       "    <tr>\n",
       "      <th>4</th>\n",
       "      <td>5</td>\n",
       "      <td>18</td>\n",
       "      <td>883</td>\n",
       "      <td>156</td>\n",
       "      <td>1</td>\n",
       "      <td>credit_card</td>\n",
       "      <td>2017-03-01 04:35:10.773</td>\n",
       "    </tr>\n",
       "  </tbody>\n",
       "</table>\n",
       "</div>"
      ],
      "text/plain": [
       "   order_id  shop_id  user_id  order_amount  total_items payment_method  \\\n",
       "0         1       53      746           224            2           cash   \n",
       "1         2       92      925            90            1           cash   \n",
       "2         3       44      861           144            1           cash   \n",
       "3         4       18      935           156            1    credit_card   \n",
       "4         5       18      883           156            1    credit_card   \n",
       "\n",
       "               created_at  \n",
       "0 2017-03-13 12:36:56.190  \n",
       "1 2017-03-03 17:38:51.999  \n",
       "2 2017-03-14 04:23:55.595  \n",
       "3 2017-03-26 12:43:36.649  \n",
       "4 2017-03-01 04:35:10.773  "
      ]
     },
     "execution_count": 2,
     "metadata": {},
     "output_type": "execute_result"
    }
   ],
   "source": [
    "#Let's take a look at the first 5 rows from the dataset\n",
    "Shopify.head() "
   ]
  },
  {
   "cell_type": "markdown",
   "id": "7d4d25ec",
   "metadata": {},
   "source": [
    "### How many Customers purchased Sneakers?\n",
    "\n",
    "Let's see how many shoppers there are across the 100 sneaker shops"
   ]
  },
  {
   "cell_type": "code",
   "execution_count": 3,
   "id": "9bd08696",
   "metadata": {},
   "outputs": [
    {
     "data": {
      "text/plain": [
       "301"
      ]
     },
     "execution_count": 3,
     "metadata": {},
     "output_type": "execute_result"
    }
   ],
   "source": [
    "Shopify['user_id'].nunique()"
   ]
  },
  {
   "cell_type": "markdown",
   "id": "4a9d3b47",
   "metadata": {},
   "source": [
    "There are 301 shoppers across 100 Shopify shops.\n",
    "Let's investigate further to figure out the possible reason for our Average Order Value (AOV) being inaccurate.\n",
    "\n",
    "### Statistical Measures of the Dataset"
   ]
  },
  {
   "cell_type": "code",
   "execution_count": 4,
   "id": "7cf5bbfb",
   "metadata": {},
   "outputs": [
    {
     "data": {
      "text/html": [
       "<div>\n",
       "<style scoped>\n",
       "    .dataframe tbody tr th:only-of-type {\n",
       "        vertical-align: middle;\n",
       "    }\n",
       "\n",
       "    .dataframe tbody tr th {\n",
       "        vertical-align: top;\n",
       "    }\n",
       "\n",
       "    .dataframe thead th {\n",
       "        text-align: right;\n",
       "    }\n",
       "</style>\n",
       "<table border=\"1\" class=\"dataframe\">\n",
       "  <thead>\n",
       "    <tr style=\"text-align: right;\">\n",
       "      <th></th>\n",
       "      <th>count</th>\n",
       "      <th>mean</th>\n",
       "      <th>std</th>\n",
       "      <th>min</th>\n",
       "      <th>25%</th>\n",
       "      <th>50%</th>\n",
       "      <th>75%</th>\n",
       "      <th>max</th>\n",
       "    </tr>\n",
       "  </thead>\n",
       "  <tbody>\n",
       "    <tr>\n",
       "      <th>order_id</th>\n",
       "      <td>5000.0</td>\n",
       "      <td>2500.5000</td>\n",
       "      <td>1443.520003</td>\n",
       "      <td>1.0</td>\n",
       "      <td>1250.75</td>\n",
       "      <td>2500.5</td>\n",
       "      <td>3750.25</td>\n",
       "      <td>5000.0</td>\n",
       "    </tr>\n",
       "    <tr>\n",
       "      <th>shop_id</th>\n",
       "      <td>5000.0</td>\n",
       "      <td>50.0788</td>\n",
       "      <td>29.006118</td>\n",
       "      <td>1.0</td>\n",
       "      <td>24.00</td>\n",
       "      <td>50.0</td>\n",
       "      <td>75.00</td>\n",
       "      <td>100.0</td>\n",
       "    </tr>\n",
       "    <tr>\n",
       "      <th>user_id</th>\n",
       "      <td>5000.0</td>\n",
       "      <td>849.0924</td>\n",
       "      <td>87.798982</td>\n",
       "      <td>607.0</td>\n",
       "      <td>775.00</td>\n",
       "      <td>849.0</td>\n",
       "      <td>925.00</td>\n",
       "      <td>999.0</td>\n",
       "    </tr>\n",
       "    <tr>\n",
       "      <th>order_amount</th>\n",
       "      <td>5000.0</td>\n",
       "      <td>3145.1280</td>\n",
       "      <td>41282.539349</td>\n",
       "      <td>90.0</td>\n",
       "      <td>163.00</td>\n",
       "      <td>284.0</td>\n",
       "      <td>390.00</td>\n",
       "      <td>704000.0</td>\n",
       "    </tr>\n",
       "    <tr>\n",
       "      <th>total_items</th>\n",
       "      <td>5000.0</td>\n",
       "      <td>8.7872</td>\n",
       "      <td>116.320320</td>\n",
       "      <td>1.0</td>\n",
       "      <td>1.00</td>\n",
       "      <td>2.0</td>\n",
       "      <td>3.00</td>\n",
       "      <td>2000.0</td>\n",
       "    </tr>\n",
       "  </tbody>\n",
       "</table>\n",
       "</div>"
      ],
      "text/plain": [
       "               count       mean           std    min      25%     50%  \\\n",
       "order_id      5000.0  2500.5000   1443.520003    1.0  1250.75  2500.5   \n",
       "shop_id       5000.0    50.0788     29.006118    1.0    24.00    50.0   \n",
       "user_id       5000.0   849.0924     87.798982  607.0   775.00   849.0   \n",
       "order_amount  5000.0  3145.1280  41282.539349   90.0   163.00   284.0   \n",
       "total_items   5000.0     8.7872    116.320320    1.0     1.00     2.0   \n",
       "\n",
       "                  75%       max  \n",
       "order_id      3750.25    5000.0  \n",
       "shop_id         75.00     100.0  \n",
       "user_id        925.00     999.0  \n",
       "order_amount   390.00  704000.0  \n",
       "total_items      3.00    2000.0  "
      ]
     },
     "execution_count": 4,
     "metadata": {},
     "output_type": "execute_result"
    }
   ],
   "source": [
    "#Statistical measures of our dataset\n",
    "Shopify.describe().transpose()"
   ]
  },
  {
   "cell_type": "markdown",
   "id": "1143f5be",
   "metadata": {},
   "source": [
    "From the table above, the AOV calculation of \\\\$3145.13 is correct but we can easily tell that the order amount column data is highly skewed because of the huge difference between the mean(3145.13) and the median(284).\n",
    "\n",
    "### How Distributed are Shopify's Orders?\n",
    "\n",
    "Skewness is a measure of the symmetry of a distribution. Typically, order amounts are skewed because it is expected that more people will make orders in low price ranges compared to higher price ranges. Let's estimate how skewed order amounts are;"
   ]
  },
  {
   "cell_type": "code",
   "execution_count": 5,
   "id": "0067d37e",
   "metadata": {},
   "outputs": [
    {
     "name": "stdout",
     "output_type": "stream",
     "text": [
      "16.675033432503792\n"
     ]
    }
   ],
   "source": [
    "print(Shopify['order_amount'].skew())"
   ]
  },
  {
   "cell_type": "markdown",
   "id": "0873d82b",
   "metadata": {},
   "source": [
    "If the skewness of a distribution is more than 2, it means that the distribution is highly skewed but this is extreme. This is the reason why our Average Order Value(AOV) seems wrong."
   ]
  },
  {
   "cell_type": "markdown",
   "id": "b1f7a863",
   "metadata": {},
   "source": [
    "Let's visualize our order amount data to see how skewed our data is;"
   ]
  },
  {
   "cell_type": "code",
   "execution_count": 6,
   "id": "2fb79392",
   "metadata": {},
   "outputs": [
    {
     "data": {
      "image/png": "[encoded data removed]",
      "text/plain": [
       "<Figure size 640x480 with 1 Axes>"
      ]
     },
     "metadata": {},
     "output_type": "display_data"
    }
   ],
   "source": [
    "# Create the histogram\n",
    "SHistogram = Shopify['order_amount'].hist(bins=30)\n",
    "\n",
    "# Set the range of the y-axis\n",
    "SHistogram.set_ylim([1,100])\n",
    "\n",
    "# Set the title of the histogram\n",
    "SHistogram.set_title('Distribution of Order Amount')\n",
    "\n",
    "# Add labels to the x-axis and y-axis\n",
    "SHistogram.set_xlabel('Order Amount($)')\n",
    "SHistogram.set_ylabel('Count')\n",
    "plt.tight_layout()"
   ]
  },
  {
   "cell_type": "markdown",
   "id": "2b0d0d23",
   "metadata": {},
   "source": [
    "As seen above, this is a right skewed distribution. Beyond the \\\\$100,000 order amount bin, there are no orders of of any amount until the \\\\$700,000 bin.\n",
    "\n",
    "### What orders were more than \\\\$20000?\n",
    "\n",
    "Let's take a look at the orders worth more than \\\\$200,000."
   ]
  },
  {
   "cell_type": "code",
   "execution_count": 7,
   "id": "fe5a3023",
   "metadata": {},
   "outputs": [
    {
     "data": {
      "text/html": [
       "<div>\n",
       "<style scoped>\n",
       "    .dataframe tbody tr th:only-of-type {\n",
       "        vertical-align: middle;\n",
       "    }\n",
       "\n",
       "    .dataframe tbody tr th {\n",
       "        vertical-align: top;\n",
       "    }\n",
       "\n",
       "    .dataframe thead th {\n",
       "        text-align: right;\n",
       "    }\n",
       "</style>\n",
       "<table border=\"1\" class=\"dataframe\">\n",
       "  <thead>\n",
       "    <tr style=\"text-align: right;\">\n",
       "      <th></th>\n",
       "      <th>order_id</th>\n",
       "      <th>shop_id</th>\n",
       "      <th>user_id</th>\n",
       "      <th>order_amount</th>\n",
       "      <th>total_items</th>\n",
       "      <th>payment_method</th>\n",
       "      <th>created_at</th>\n",
       "    </tr>\n",
       "  </thead>\n",
       "  <tbody>\n",
       "    <tr>\n",
       "      <th>15</th>\n",
       "      <td>16</td>\n",
       "      <td>42</td>\n",
       "      <td>607</td>\n",
       "      <td>704000</td>\n",
       "      <td>2000</td>\n",
       "      <td>credit_card</td>\n",
       "      <td>2017-03-07 04:00:00</td>\n",
       "    </tr>\n",
       "    <tr>\n",
       "      <th>60</th>\n",
       "      <td>61</td>\n",
       "      <td>42</td>\n",
       "      <td>607</td>\n",
       "      <td>704000</td>\n",
       "      <td>2000</td>\n",
       "      <td>credit_card</td>\n",
       "      <td>2017-03-04 04:00:00</td>\n",
       "    </tr>\n",
       "    <tr>\n",
       "      <th>520</th>\n",
       "      <td>521</td>\n",
       "      <td>42</td>\n",
       "      <td>607</td>\n",
       "      <td>704000</td>\n",
       "      <td>2000</td>\n",
       "      <td>credit_card</td>\n",
       "      <td>2017-03-02 04:00:00</td>\n",
       "    </tr>\n",
       "    <tr>\n",
       "      <th>1104</th>\n",
       "      <td>1105</td>\n",
       "      <td>42</td>\n",
       "      <td>607</td>\n",
       "      <td>704000</td>\n",
       "      <td>2000</td>\n",
       "      <td>credit_card</td>\n",
       "      <td>2017-03-24 04:00:00</td>\n",
       "    </tr>\n",
       "    <tr>\n",
       "      <th>1362</th>\n",
       "      <td>1363</td>\n",
       "      <td>42</td>\n",
       "      <td>607</td>\n",
       "      <td>704000</td>\n",
       "      <td>2000</td>\n",
       "      <td>credit_card</td>\n",
       "      <td>2017-03-15 04:00:00</td>\n",
       "    </tr>\n",
       "  </tbody>\n",
       "</table>\n",
       "</div>"
      ],
      "text/plain": [
       "      order_id  shop_id  user_id  order_amount  total_items payment_method  \\\n",
       "15          16       42      607        704000         2000    credit_card   \n",
       "60          61       42      607        704000         2000    credit_card   \n",
       "520        521       42      607        704000         2000    credit_card   \n",
       "1104      1105       42      607        704000         2000    credit_card   \n",
       "1362      1363       42      607        704000         2000    credit_card   \n",
       "\n",
       "              created_at  \n",
       "15   2017-03-07 04:00:00  \n",
       "60   2017-03-04 04:00:00  \n",
       "520  2017-03-02 04:00:00  \n",
       "1104 2017-03-24 04:00:00  \n",
       "1362 2017-03-15 04:00:00  "
      ]
     },
     "execution_count": 7,
     "metadata": {},
     "output_type": "execute_result"
    }
   ],
   "source": [
    "# A Table of orders above $200,000\n",
    "Shopify[Shopify['order_amount']>200000].head() "
   ]
  },
  {
   "cell_type": "markdown",
   "id": "fdf45299",
   "metadata": {},
   "source": [
    "This is odd, The same user (user_id = 607) has only made 17 orders of exactly 2000 sneakers worth \\\\$704,000 at 4 AM either multiple times on the same day or on different days. We should also note that this user only orders from the same shop (shop_id = 42). I suggest that the Shopify team investigate further on these transactions since they're very sketchy. \n",
    "Let's remove all orders from this user from our dataset."
   ]
  },
  {
   "cell_type": "code",
   "execution_count": 8,
   "id": "dd9b668f",
   "metadata": {},
   "outputs": [],
   "source": [
    "#Removing records\n",
    "Shopify = Shopify.drop(Shopify[Shopify['user_id']==607].index,axis=0)"
   ]
  },
  {
   "cell_type": "markdown",
   "id": "0718f58e",
   "metadata": {},
   "source": [
    "### How distributed are Shopify orders now?\n",
    "\n",
    "With these transactions removed, let's see how the orders are distributed"
   ]
  },
  {
   "cell_type": "code",
   "execution_count": 9,
   "id": "712387f4",
   "metadata": {},
   "outputs": [
    {
     "data": {
      "image/png": "[encoded data removed]",
      "text/plain": [
       "<Figure size 640x480 with 1 Axes>"
      ]
     },
     "metadata": {},
     "output_type": "display_data"
    }
   ],
   "source": [
    "# Create the histogram\n",
    "SHistogram2 = Shopify['order_amount'].hist()\n",
    "\n",
    "# Set the range of the y-axis\n",
    "SHistogram2.set_ylim([1,100])\n",
    "\n",
    "# Set the title of the histogram\n",
    "SHistogram2.set_title('Distribution of Order Amount')\n",
    "\n",
    "# Add labels to the x-axis and y-axis\n",
    "SHistogram2.set_xlabel('Order Amount($)')\n",
    "SHistogram2.set_ylabel('Count')\n",
    "plt.tight_layout()"
   ]
  },
  {
   "cell_type": "markdown",
   "id": "94ec3f21",
   "metadata": {},
   "source": [
    "**How skewed is our data?**"
   ]
  },
  {
   "cell_type": "code",
   "execution_count": 10,
   "id": "33d239ed",
   "metadata": {},
   "outputs": [
    {
     "name": "stdout",
     "output_type": "stream",
     "text": [
      "14.83408122639766\n"
     ]
    }
   ],
   "source": [
    "print(Shopify['order_amount'].skew())"
   ]
  },
  {
   "cell_type": "markdown",
   "id": "d7e5fa4b",
   "metadata": {},
   "source": [
    "We have been able to reduce how skewed our data is but this is still too high.\n",
    "\n",
    "### What orders were more than \\\\$20000?\n",
    "\n",
    "Notice that there is a gap in the distribution, lets investigate the data."
   ]
  },
  {
   "cell_type": "code",
   "execution_count": 11,
   "id": "b1c53369",
   "metadata": {},
   "outputs": [
    {
     "data": {
      "text/html": [
       "<div>\n",
       "<style scoped>\n",
       "    .dataframe tbody tr th:only-of-type {\n",
       "        vertical-align: middle;\n",
       "    }\n",
       "\n",
       "    .dataframe tbody tr th {\n",
       "        vertical-align: top;\n",
       "    }\n",
       "\n",
       "    .dataframe thead th {\n",
       "        text-align: right;\n",
       "    }\n",
       "</style>\n",
       "<table border=\"1\" class=\"dataframe\">\n",
       "  <thead>\n",
       "    <tr style=\"text-align: right;\">\n",
       "      <th></th>\n",
       "      <th>order_id</th>\n",
       "      <th>shop_id</th>\n",
       "      <th>user_id</th>\n",
       "      <th>order_amount</th>\n",
       "      <th>total_items</th>\n",
       "      <th>payment_method</th>\n",
       "      <th>created_at</th>\n",
       "    </tr>\n",
       "  </thead>\n",
       "  <tbody>\n",
       "    <tr>\n",
       "      <th>691</th>\n",
       "      <td>692</td>\n",
       "      <td>78</td>\n",
       "      <td>878</td>\n",
       "      <td>154350</td>\n",
       "      <td>6</td>\n",
       "      <td>debit</td>\n",
       "      <td>2017-03-27 22:51:43.203</td>\n",
       "    </tr>\n",
       "    <tr>\n",
       "      <th>2492</th>\n",
       "      <td>2493</td>\n",
       "      <td>78</td>\n",
       "      <td>834</td>\n",
       "      <td>102900</td>\n",
       "      <td>4</td>\n",
       "      <td>debit</td>\n",
       "      <td>2017-03-04 04:37:33.848</td>\n",
       "    </tr>\n",
       "    <tr>\n",
       "      <th>1259</th>\n",
       "      <td>1260</td>\n",
       "      <td>78</td>\n",
       "      <td>775</td>\n",
       "      <td>77175</td>\n",
       "      <td>3</td>\n",
       "      <td>credit_card</td>\n",
       "      <td>2017-03-27 09:27:19.843</td>\n",
       "    </tr>\n",
       "    <tr>\n",
       "      <th>3724</th>\n",
       "      <td>3725</td>\n",
       "      <td>78</td>\n",
       "      <td>766</td>\n",
       "      <td>77175</td>\n",
       "      <td>3</td>\n",
       "      <td>credit_card</td>\n",
       "      <td>2017-03-16 14:13:25.868</td>\n",
       "    </tr>\n",
       "    <tr>\n",
       "      <th>2906</th>\n",
       "      <td>2907</td>\n",
       "      <td>78</td>\n",
       "      <td>817</td>\n",
       "      <td>77175</td>\n",
       "      <td>3</td>\n",
       "      <td>debit</td>\n",
       "      <td>2017-03-16 03:45:46.089</td>\n",
       "    </tr>\n",
       "  </tbody>\n",
       "</table>\n",
       "</div>"
      ],
      "text/plain": [
       "      order_id  shop_id  user_id  order_amount  total_items payment_method  \\\n",
       "691        692       78      878        154350            6          debit   \n",
       "2492      2493       78      834        102900            4          debit   \n",
       "1259      1260       78      775         77175            3    credit_card   \n",
       "3724      3725       78      766         77175            3    credit_card   \n",
       "2906      2907       78      817         77175            3          debit   \n",
       "\n",
       "                  created_at  \n",
       "691  2017-03-27 22:51:43.203  \n",
       "2492 2017-03-04 04:37:33.848  \n",
       "1259 2017-03-27 09:27:19.843  \n",
       "3724 2017-03-16 14:13:25.868  \n",
       "2906 2017-03-16 03:45:46.089  "
      ]
     },
     "execution_count": 11,
     "metadata": {},
     "output_type": "execute_result"
    }
   ],
   "source": [
    "#Orders amount > $20,000\n",
    "Shopify[Shopify['order_amount']>20000].sort_values('order_amount',ascending=False).head()"
   ]
  },
  {
   "cell_type": "markdown",
   "id": "e5f7b307",
   "metadata": {},
   "source": [
    "It seems Shopify sells luxury sneakers worth \\\\$25725 a pair. Orders amounts for this sneaker range from \\\\$25725 to \\\\$154350. Pretty weird that people are paying for some orders with cash but since this is a mock dataset, we will ignore this.\n",
    "\n",
    "### How many stores sold luxury sneakers?"
   ]
  },
  {
   "cell_type": "code",
   "execution_count": 12,
   "id": "db384813",
   "metadata": {},
   "outputs": [
    {
     "data": {
      "text/plain": [
       "78    46\n",
       "Name: shop_id, dtype: int64"
      ]
     },
     "execution_count": 12,
     "metadata": {},
     "output_type": "execute_result"
    }
   ],
   "source": [
    "Shopify[Shopify['order_amount']>20000]['shop_id'].value_counts()"
   ]
  },
  {
   "cell_type": "markdown",
   "id": "c68bc287",
   "metadata": {},
   "source": [
    "This sneaker is only sold in one shop(shop_id=78) out of a 100 in the time period. It's safe to assume that this shop is located in a high income area.\n",
    "\n",
    "### How many orders were made for the luxury sneakers?"
   ]
  },
  {
   "cell_type": "code",
   "execution_count": 13,
   "id": "73266754",
   "metadata": {},
   "outputs": [
    {
     "data": {
      "text/plain": [
       "normal    4937\n",
       "luxury      46\n",
       "Name: order_type, dtype: int64"
      ]
     },
     "execution_count": 13,
     "metadata": {},
     "output_type": "execute_result"
    }
   ],
   "source": [
    "# Create a function that classifies order amounts > $20000 as luxury and order amounts <$20000 as normal\n",
    "def classify_order(amount):\n",
    "    if amount > 20000:\n",
    "        return \"luxury\"\n",
    "    else:\n",
    "        return \"normal\"\n",
    "    \n",
    "# Create a new column 'order_type'\n",
    "Shopify['order_type'] = Shopify['order_amount'].apply(classify_order)\n",
    "Shopify['order_type'].value_counts()"
   ]
  },
  {
   "cell_type": "markdown",
   "id": "2634b014",
   "metadata": {},
   "source": [
    "Only 46 orders were made for luxury sneakers compared to rest of the 4937 orders for other sneakers. Let's see these figures in percentages."
   ]
  },
  {
   "cell_type": "code",
   "execution_count": 14,
   "id": "a11c9f5c",
   "metadata": {},
   "outputs": [
    {
     "data": {
      "text/plain": [
       "normal    0.990769\n",
       "luxury    0.009231\n",
       "Name: order_type, dtype: float64"
      ]
     },
     "execution_count": 14,
     "metadata": {},
     "output_type": "execute_result"
    }
   ],
   "source": [
    "Shopify['order_type'].value_counts(normalize=True)"
   ]
  },
  {
   "cell_type": "markdown",
   "id": "d9f92043",
   "metadata": {},
   "source": [
    "Only **0.01%** of orders in march were for luxury sneakers. This is really small.\n",
    "\n",
    "### How distributed are orders for fairly-priced sneakers?"
   ]
  },
  {
   "cell_type": "code",
   "execution_count": 15,
   "id": "0cd98b78",
   "metadata": {},
   "outputs": [
    {
     "data": {
      "image/png": "[encoded data removed]",
      "text/plain": [
       "<Figure size 640x480 with 1 Axes>"
      ]
     },
     "metadata": {},
     "output_type": "display_data"
    }
   ],
   "source": [
    "# Create the histogram\n",
    "SHistogram_Normal = Shopify[Shopify['order_type']=='normal']['order_amount'].hist()\n",
    "\n",
    "# Set the title of the histogram\n",
    "SHistogram_Normal.set_title('Distribution of Order Amount < $20000')\n",
    "\n",
    "# Add labels to the x-axis and y-axis\n",
    "SHistogram_Normal.set_xlabel('Order Amount($)')\n",
    "SHistogram_Normal.set_ylabel('Count')\n",
    "plt.tight_layout()"
   ]
  },
  {
   "cell_type": "markdown",
   "id": "a7a46b50",
   "metadata": {},
   "source": [
    "**How skewed is the distriution for how expensive orders are for fairly priced sneakers?**"
   ]
  },
  {
   "cell_type": "code",
   "execution_count": 16,
   "id": "02315e94",
   "metadata": {},
   "outputs": [
    {
     "name": "stdout",
     "output_type": "stream",
     "text": [
      "1.2524164773783135\n"
     ]
    }
   ],
   "source": [
    "print(Shopify[Shopify['order_type']=='normal']['order_amount'].skew())"
   ]
  },
  {
   "cell_type": "markdown",
   "id": "8b584673",
   "metadata": {},
   "source": [
    "The distribution of fairly priced sneakers is much more realistic but due to the fact that the orders for luxury sneakers are legitimate and would make a large part for Shopify's gross profit. Let's calculate the AOV for all sneakers orders, orders for fairly priced sneakers, and for only luxury sneakers.\n",
    "\n",
    "### What is the Average Order Value(AOV) for all sneakers?"
   ]
  },
  {
   "cell_type": "code",
   "execution_count": 17,
   "id": "f7847713",
   "metadata": {},
   "outputs": [
    {
     "name": "stdout",
     "output_type": "stream",
     "text": [
      "754.0919125025085\n"
     ]
    }
   ],
   "source": [
    "Shopify_AOV_all = print(Shopify['order_amount'].mean())"
   ]
  },
  {
   "cell_type": "markdown",
   "id": "c364bef2",
   "metadata": {},
   "source": [
    "Shopify's AOV for all sneakers for the month of March is \\\\$754.09. This is really impressive. Since it is reported that the fashion industry AOV in the US was just around \\\\$97 in 2022.\n",
    "\n",
    "### What is the Average Order Value(AOV) for fairly-priced sneakers?"
   ]
  },
  {
   "cell_type": "code",
   "execution_count": 18,
   "id": "a8f027dc",
   "metadata": {},
   "outputs": [
    {
     "name": "stdout",
     "output_type": "stream",
     "text": [
      "302.58051448247926\n"
     ]
    }
   ],
   "source": [
    "Shopify_AOV_normal = print(Shopify[Shopify['order_type']=='normal']['order_amount'].mean())"
   ]
  },
  {
   "cell_type": "markdown",
   "id": "4b81db41",
   "metadata": {},
   "source": [
    "Shopify's AOV for non-luxury sneakers for the month of March is \\\\$302.58. This is still impressive since it is above the industry's AOV.\n",
    "\n",
    "### What is the Average Order Value(AOV) for luxury sneakers?"
   ]
  },
  {
   "cell_type": "code",
   "execution_count": 19,
   "id": "94216bab",
   "metadata": {},
   "outputs": [
    {
     "name": "stdout",
     "output_type": "stream",
     "text": [
      "49213.04347826087\n"
     ]
    }
   ],
   "source": [
    "Shopify_AOV_luxury = print(Shopify[Shopify['order_type']=='luxury']['order_amount'].mean())"
   ]
  },
  {
   "cell_type": "markdown",
   "id": "b4f6da10",
   "metadata": {},
   "source": [
    "Shopify's AOV for luxury sneakers for the month of March is \\\\$49213.04. This is the most impressive because according to [Statista](https://www.statista.com/statistics/1334012/luxury-apparel-average-online-order-value/#:~:text=Globally%2C%20the%20average%20online%20order,just%20over%20263%20U.S.%20dollars) the AOV for luxury apparel is \\\\$244.66 in 2022. Shopify is performing great."
   ]
  },
  {
   "cell_type": "markdown",
   "id": "d7daf0bc",
   "metadata": {},
   "source": [
    "### Summary of Findings\n",
    "1. **User_id 607** and **shop_id 42** make shady transactions.\n",
    "2. **Shop_id 78** is the **only** store selling luxury sneakers.\n",
    "3. In the month of March, Shopify received **4983** orders.\n",
    "4. **4937 (99.9%)** of orders were for fairly priced sneakers and **46 (0.01%)** orders were for luxury sneakers.\n",
    "5. The Average Order Value (AOV) for the month of March for all sneakers is **\\\\$754.09**.\n",
    "6. The Average Order Value (AOV) for the month of March for **only** fairly priced sneakers is **\\\\$302.58**.\n",
    "7. The Average Order Value (AOV) for the month of March for **luxury** sneakers is **\\\\$49,213.04**.\n",
    "\n",
    "### Executive Summary\n",
    "\n",
    "Shopify is performing very well by all metrics calculated in this analysis and i recommend that the **Average Order Value (AOV)** for **fairly priced sneakers** which is **\\\\$302.58** as the metric that would be used to measure the performance for Shopify in March. The company's AOV is well above the fashion industry AOV of \\\\$97.\n",
    "\n",
    "Shopify management should consider selling luxury sneakers in more shops **particularly** shops located in **high income areas**.\n",
    "\n",
    "Also, i **strongly** recommend that Shopify's management should investigate **user_id 607** and **shop_id 42** for shady transactions worth **\\\\$11,968,000**."
   ]
  },
  {
   "cell_type": "markdown",
   "id": "e7c409a9",
   "metadata": {},
   "source": [
    "## Challenge 2: Exploratory Data Analysis With SQL\n",
    "### Question:\n",
    "\n",
    "For this question you’ll need to use SQL. Follow this [link](https://www.w3schools.com/SQL/TRYSQL.ASP?FILENAME=TRYSQL_SELECT_ALL) to access the data set required for the challenge. Please use queries to answer the following questions. Paste your queries along with your final numerical answers below.\n",
    "\n",
    "#### Further Information\n",
    "The database contains the following tables,fields and number of records;\n",
    "\n",
    "| Table Name   | Fields                                                                           | Number of Records  |\n",
    "|--------------|----------------------------------------------------------------------------------|--------------------|\n",
    "| Customers    | CustomerID, CustomerName, Address, City, PostalCode, Country                     | 91                 |\n",
    "| Categories   | CategoryID, CategoryName, Description                                            | 8                  |\n",
    "| Employees    | EmployeeID, LastName, FirstName, BirthDate, Photo, Notes                         | 10                 |\n",
    "| OrderDetails | OrderID, CustomerID, EmployeeID, OrderDate, ShipperID                            | 518                |\n",
    "| Orders       | OrderID, CustomerID, EmployeeID, OrderDate, ShipperID                             | 196                |\n",
    "| Products     | ProductID, ProductName, SupplierID, CategoryID, Unit, Price                      | 77                 |\n",
    "| Shippers     | ShipperID, ShipperName, Phone                                                    | 3                  |\n",
    "| Suppliers    | SupplierID, SupplierName, ContactName, Address, City, PostalCode, Country, Phone | 29                 |\n",
    "\n",
    "\n",
    "Use SQL queries to answer the following questions;\n",
    "### 1. How many orders were shipped by Speedy Express in total?\n",
    "\n",
    "`SELECT ShipperName, COUNT(*) AS no_of_orders`\n",
    "\n",
    "`FROM Orders AS o`\n",
    "\n",
    "`JOIN Shippers AS s`\n",
    "\n",
    "`ON o.ShipperID = s.ShipperID`\n",
    "\n",
    "`GROUP BY ShipperName`\n",
    "\n",
    "`HAVING ShipperName = 'Speedy Express'`\n",
    "\n",
    "Query Result:\n",
    "\n",
    "| ShipperName    | no_of_orders  |\n",
    "|----------------|---------------|\n",
    "| Speedy Express | 54            |\n",
    "\n",
    "**Speedy Express** ships **54** orders within the time period.\n",
    "\n",
    "\n",
    "### 2. What is the last name of the employee with the most orders?\n",
    "\n",
    "`SELECT e.LastName, COUNT(*) AS no_of_orders`\n",
    "\n",
    "`FROM Orders AS o`\n",
    "\n",
    "`JOIN Employees AS e`\n",
    "\n",
    "`ON o.EmployeeID = e.EmployeeID`\n",
    "\n",
    "`GROUP BY e.LastName`\n",
    "\n",
    "`ORDER BY no_of_orders DESC`\n",
    "\n",
    "`LIMIT 1`\n",
    "\n",
    "Query Result:\n",
    "\n",
    "| LastName | no_of_orders  |\n",
    "|----------|---------------|\n",
    "| Peacock  | 40            |\n",
    "\n",
    "The last name of the employee with the **most** orders is **Peacock**. \n",
    "\n",
    "\n",
    "### 3. What product was ordered the most by customers in Germany?\n",
    "\n",
    "`SELECT ProductName, SUM(Quantity) AS no_of_orders`\n",
    "\n",
    "`FROM OrderDetails AS od`\n",
    "\n",
    "`JOIN Orders AS o`\n",
    "\n",
    "`ON od.OrderID = o.OrderID`\n",
    "\n",
    "`JOIN (SELECT * FROM Customers WHERE Country = 'Germany')  AS c`\n",
    "       \n",
    "`ON o.CustomerID = c.CustomerID`\n",
    "\n",
    "`JOIN Products AS p`\n",
    "\n",
    "`ON od.ProductID = p.ProductID`\n",
    "\n",
    "`GROUP BY ProductName`\n",
    "\n",
    "`ORDER BY no_of_orders DESC`\n",
    "\n",
    "`LIMIT 1`\n",
    "\n",
    "Query Result:\n",
    "\n",
    "| ProductName      | no_of_orders  |\n",
    "|------------------|---------------|\n",
    "| Boston Crab Meat | 160           |\n",
    "\n",
    "\n",
    "**Boston Crab Meat** was the **most** demanded product by customers living in **Germany**.\n",
    "\n"
   ]
  }
 ],
 "metadata": {
  "hide_input": false,
  "kernelspec": {
   "display_name": "Python 3 (ipykernel)",
   "language": "python",
   "name": "python3"
  },
  "language_info": {
   "codemirror_mode": {
    "name": "ipython",
    "version": 3
   },
   "file_extension": ".py",
   "mimetype": "text/x-python",
   "name": "python",
   "nbconvert_exporter": "python",
   "pygments_lexer": "ipython3",
   "version": "3.9.15"
  },
  "toc": {
   "base_numbering": 1,
   "nav_menu": {},
   "number_sections": false,
   "sideBar": true,
   "skip_h1_title": false,
   "title_cell": "Table of Contents",
   "title_sidebar": "Contents",
   "toc_cell": false,
   "toc_position": {},
   "toc_section_display": true,
   "toc_window_display": false
  }
 },
 "nbformat": 4,
 "nbformat_minor": 5
}
